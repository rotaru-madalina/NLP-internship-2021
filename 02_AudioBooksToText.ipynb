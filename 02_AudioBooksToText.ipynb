{
  "nbformat": 4,
  "nbformat_minor": 2,
  "metadata": {
    "colab": {
      "name": "04_AudioBooksToText.ipynb",
      "provenance": [],
      "collapsed_sections": []
    },
    "kernelspec": {
      "display_name": "Python 3",
      "name": "python3"
    },
    "language_info": {
      "name": "python"
    },
    "widgets": {
      "application/vnd.jupyter.widget-state+json": {
        "c9386730729446189c9e149a09bb2748": {
          "model_module": "@jupyter-widgets/controls",
          "model_name": "HBoxModel",
          "model_module_version": "1.5.0",
          "state": {
            "_view_name": "HBoxView",
            "_dom_classes": [],
            "_model_name": "HBoxModel",
            "_view_module": "@jupyter-widgets/controls",
            "_model_module_version": "1.5.0",
            "_view_count": null,
            "_view_module_version": "1.5.0",
            "box_style": "",
            "layout": "IPY_MODEL_08e17edc45ce439da1c2baef312d65f0",
            "_model_module": "@jupyter-widgets/controls",
            "children": [
              "IPY_MODEL_331a86d96d54425ab6462c16d2f7b537",
              "IPY_MODEL_12a66b6a2e834f35832f2257b98c43f5",
              "IPY_MODEL_4110e4f67a894005a8a9da31af4089bd"
            ]
          }
        },
        "08e17edc45ce439da1c2baef312d65f0": {
          "model_module": "@jupyter-widgets/base",
          "model_name": "LayoutModel",
          "model_module_version": "1.2.0",
          "state": {
            "_view_name": "LayoutView",
            "grid_template_rows": null,
            "right": null,
            "justify_content": null,
            "_view_module": "@jupyter-widgets/base",
            "overflow": null,
            "_model_module_version": "1.2.0",
            "_view_count": null,
            "flex_flow": null,
            "width": null,
            "min_width": null,
            "border": null,
            "align_items": null,
            "bottom": null,
            "_model_module": "@jupyter-widgets/base",
            "top": null,
            "grid_column": null,
            "overflow_y": null,
            "overflow_x": null,
            "grid_auto_flow": null,
            "grid_area": null,
            "grid_template_columns": null,
            "flex": null,
            "_model_name": "LayoutModel",
            "justify_items": null,
            "grid_row": null,
            "max_height": null,
            "align_content": null,
            "visibility": null,
            "align_self": null,
            "height": null,
            "min_height": null,
            "padding": null,
            "grid_auto_rows": null,
            "grid_gap": null,
            "max_width": null,
            "order": null,
            "_view_module_version": "1.2.0",
            "grid_template_areas": null,
            "object_position": null,
            "object_fit": null,
            "grid_auto_columns": null,
            "margin": null,
            "display": null,
            "left": null
          }
        },
        "331a86d96d54425ab6462c16d2f7b537": {
          "model_module": "@jupyter-widgets/controls",
          "model_name": "HTMLModel",
          "model_module_version": "1.5.0",
          "state": {
            "_view_name": "HTMLView",
            "style": "IPY_MODEL_c6648ec55fcd4b3591475399f33fba00",
            "_dom_classes": [],
            "description": "",
            "_model_name": "HTMLModel",
            "placeholder": "​",
            "_view_module": "@jupyter-widgets/controls",
            "_model_module_version": "1.5.0",
            "value": "100%",
            "_view_count": null,
            "_view_module_version": "1.5.0",
            "description_tooltip": null,
            "_model_module": "@jupyter-widgets/controls",
            "layout": "IPY_MODEL_becf7035babf458ab4b01ce6fadf9440"
          }
        },
        "12a66b6a2e834f35832f2257b98c43f5": {
          "model_module": "@jupyter-widgets/controls",
          "model_name": "FloatProgressModel",
          "model_module_version": "1.5.0",
          "state": {
            "_view_name": "ProgressView",
            "style": "IPY_MODEL_82e11ce4ad074b3c880df03142b5b623",
            "_dom_classes": [],
            "description": "",
            "_model_name": "FloatProgressModel",
            "bar_style": "success",
            "max": 314305928,
            "_view_module": "@jupyter-widgets/controls",
            "_model_module_version": "1.5.0",
            "value": 314305928,
            "_view_count": null,
            "_view_module_version": "1.5.0",
            "orientation": "horizontal",
            "min": 0,
            "description_tooltip": null,
            "_model_module": "@jupyter-widgets/controls",
            "layout": "IPY_MODEL_f952471de6824fec8234267609642e69"
          }
        },
        "4110e4f67a894005a8a9da31af4089bd": {
          "model_module": "@jupyter-widgets/controls",
          "model_name": "HTMLModel",
          "model_module_version": "1.5.0",
          "state": {
            "_view_name": "HTMLView",
            "style": "IPY_MODEL_d5fb97dd39c44aea92494ee254cd05af",
            "_dom_classes": [],
            "description": "",
            "_model_name": "HTMLModel",
            "placeholder": "​",
            "_view_module": "@jupyter-widgets/controls",
            "_model_module_version": "1.5.0",
            "value": " 300M/300M [00:11&lt;00:00, 28.1MB/s]",
            "_view_count": null,
            "_view_module_version": "1.5.0",
            "description_tooltip": null,
            "_model_module": "@jupyter-widgets/controls",
            "layout": "IPY_MODEL_37f9c1ce59464f7aada5bb1c0461eb7b"
          }
        },
        "c6648ec55fcd4b3591475399f33fba00": {
          "model_module": "@jupyter-widgets/controls",
          "model_name": "DescriptionStyleModel",
          "model_module_version": "1.5.0",
          "state": {
            "_view_name": "StyleView",
            "_model_name": "DescriptionStyleModel",
            "description_width": "",
            "_view_module": "@jupyter-widgets/base",
            "_model_module_version": "1.5.0",
            "_view_count": null,
            "_view_module_version": "1.2.0",
            "_model_module": "@jupyter-widgets/controls"
          }
        },
        "becf7035babf458ab4b01ce6fadf9440": {
          "model_module": "@jupyter-widgets/base",
          "model_name": "LayoutModel",
          "model_module_version": "1.2.0",
          "state": {
            "_view_name": "LayoutView",
            "grid_template_rows": null,
            "right": null,
            "justify_content": null,
            "_view_module": "@jupyter-widgets/base",
            "overflow": null,
            "_model_module_version": "1.2.0",
            "_view_count": null,
            "flex_flow": null,
            "width": null,
            "min_width": null,
            "border": null,
            "align_items": null,
            "bottom": null,
            "_model_module": "@jupyter-widgets/base",
            "top": null,
            "grid_column": null,
            "overflow_y": null,
            "overflow_x": null,
            "grid_auto_flow": null,
            "grid_area": null,
            "grid_template_columns": null,
            "flex": null,
            "_model_name": "LayoutModel",
            "justify_items": null,
            "grid_row": null,
            "max_height": null,
            "align_content": null,
            "visibility": null,
            "align_self": null,
            "height": null,
            "min_height": null,
            "padding": null,
            "grid_auto_rows": null,
            "grid_gap": null,
            "max_width": null,
            "order": null,
            "_view_module_version": "1.2.0",
            "grid_template_areas": null,
            "object_position": null,
            "object_fit": null,
            "grid_auto_columns": null,
            "margin": null,
            "display": null,
            "left": null
          }
        },
        "82e11ce4ad074b3c880df03142b5b623": {
          "model_module": "@jupyter-widgets/controls",
          "model_name": "ProgressStyleModel",
          "model_module_version": "1.5.0",
          "state": {
            "_view_name": "StyleView",
            "_model_name": "ProgressStyleModel",
            "description_width": "",
            "_view_module": "@jupyter-widgets/base",
            "_model_module_version": "1.5.0",
            "_view_count": null,
            "_view_module_version": "1.2.0",
            "bar_color": null,
            "_model_module": "@jupyter-widgets/controls"
          }
        },
        "f952471de6824fec8234267609642e69": {
          "model_module": "@jupyter-widgets/base",
          "model_name": "LayoutModel",
          "model_module_version": "1.2.0",
          "state": {
            "_view_name": "LayoutView",
            "grid_template_rows": null,
            "right": null,
            "justify_content": null,
            "_view_module": "@jupyter-widgets/base",
            "overflow": null,
            "_model_module_version": "1.2.0",
            "_view_count": null,
            "flex_flow": null,
            "width": null,
            "min_width": null,
            "border": null,
            "align_items": null,
            "bottom": null,
            "_model_module": "@jupyter-widgets/base",
            "top": null,
            "grid_column": null,
            "overflow_y": null,
            "overflow_x": null,
            "grid_auto_flow": null,
            "grid_area": null,
            "grid_template_columns": null,
            "flex": null,
            "_model_name": "LayoutModel",
            "justify_items": null,
            "grid_row": null,
            "max_height": null,
            "align_content": null,
            "visibility": null,
            "align_self": null,
            "height": null,
            "min_height": null,
            "padding": null,
            "grid_auto_rows": null,
            "grid_gap": null,
            "max_width": null,
            "order": null,
            "_view_module_version": "1.2.0",
            "grid_template_areas": null,
            "object_position": null,
            "object_fit": null,
            "grid_auto_columns": null,
            "margin": null,
            "display": null,
            "left": null
          }
        },
        "d5fb97dd39c44aea92494ee254cd05af": {
          "model_module": "@jupyter-widgets/controls",
          "model_name": "DescriptionStyleModel",
          "model_module_version": "1.5.0",
          "state": {
            "_view_name": "StyleView",
            "_model_name": "DescriptionStyleModel",
            "description_width": "",
            "_view_module": "@jupyter-widgets/base",
            "_model_module_version": "1.5.0",
            "_view_count": null,
            "_view_module_version": "1.2.0",
            "_model_module": "@jupyter-widgets/controls"
          }
        },
        "37f9c1ce59464f7aada5bb1c0461eb7b": {
          "model_module": "@jupyter-widgets/base",
          "model_name": "LayoutModel",
          "model_module_version": "1.2.0",
          "state": {
            "_view_name": "LayoutView",
            "grid_template_rows": null,
            "right": null,
            "justify_content": null,
            "_view_module": "@jupyter-widgets/base",
            "overflow": null,
            "_model_module_version": "1.2.0",
            "_view_count": null,
            "flex_flow": null,
            "width": null,
            "min_width": null,
            "border": null,
            "align_items": null,
            "bottom": null,
            "_model_module": "@jupyter-widgets/base",
            "top": null,
            "grid_column": null,
            "overflow_y": null,
            "overflow_x": null,
            "grid_auto_flow": null,
            "grid_area": null,
            "grid_template_columns": null,
            "flex": null,
            "_model_name": "LayoutModel",
            "justify_items": null,
            "grid_row": null,
            "max_height": null,
            "align_content": null,
            "visibility": null,
            "align_self": null,
            "height": null,
            "min_height": null,
            "padding": null,
            "grid_auto_rows": null,
            "grid_gap": null,
            "max_width": null,
            "order": null,
            "_view_module_version": "1.2.0",
            "grid_template_areas": null,
            "object_position": null,
            "object_fit": null,
            "grid_auto_columns": null,
            "margin": null,
            "display": null,
            "left": null
          }
        },
        "64db33e2d07542dcb5763c16a6ccb7e0": {
          "model_module": "@jupyter-widgets/controls",
          "model_name": "HBoxModel",
          "model_module_version": "1.5.0",
          "state": {
            "_view_name": "HBoxView",
            "_dom_classes": [],
            "_model_name": "HBoxModel",
            "_view_module": "@jupyter-widgets/controls",
            "_model_module_version": "1.5.0",
            "_view_count": null,
            "_view_module_version": "1.5.0",
            "box_style": "",
            "layout": "IPY_MODEL_cd78939552e044c7af2ef459118728db",
            "_model_module": "@jupyter-widgets/controls",
            "children": [
              "IPY_MODEL_5e2273a2a77a411ca0637aa8df5447f9",
              "IPY_MODEL_2d4a36ed98db47a2a508ebc247b9cb8d",
              "IPY_MODEL_705000c0d6c24fcb83677b737712a43a"
            ]
          }
        },
        "cd78939552e044c7af2ef459118728db": {
          "model_module": "@jupyter-widgets/base",
          "model_name": "LayoutModel",
          "model_module_version": "1.2.0",
          "state": {
            "_view_name": "LayoutView",
            "grid_template_rows": null,
            "right": null,
            "justify_content": null,
            "_view_module": "@jupyter-widgets/base",
            "overflow": null,
            "_model_module_version": "1.2.0",
            "_view_count": null,
            "flex_flow": null,
            "width": null,
            "min_width": null,
            "border": null,
            "align_items": null,
            "bottom": null,
            "_model_module": "@jupyter-widgets/base",
            "top": null,
            "grid_column": null,
            "overflow_y": null,
            "overflow_x": null,
            "grid_auto_flow": null,
            "grid_area": null,
            "grid_template_columns": null,
            "flex": null,
            "_model_name": "LayoutModel",
            "justify_items": null,
            "grid_row": null,
            "max_height": null,
            "align_content": null,
            "visibility": null,
            "align_self": null,
            "height": null,
            "min_height": null,
            "padding": null,
            "grid_auto_rows": null,
            "grid_gap": null,
            "max_width": null,
            "order": null,
            "_view_module_version": "1.2.0",
            "grid_template_areas": null,
            "object_position": null,
            "object_fit": null,
            "grid_auto_columns": null,
            "margin": null,
            "display": null,
            "left": null
          }
        },
        "5e2273a2a77a411ca0637aa8df5447f9": {
          "model_module": "@jupyter-widgets/controls",
          "model_name": "HTMLModel",
          "model_module_version": "1.5.0",
          "state": {
            "_view_name": "HTMLView",
            "style": "IPY_MODEL_f532c77b93d24e6aab51b42a9be49f1e",
            "_dom_classes": [],
            "description": "",
            "_model_name": "HTMLModel",
            "placeholder": "​",
            "_view_module": "@jupyter-widgets/controls",
            "_model_module_version": "1.5.0",
            "value": "100%",
            "_view_count": null,
            "_view_module_version": "1.5.0",
            "description_tooltip": null,
            "_model_module": "@jupyter-widgets/controls",
            "layout": "IPY_MODEL_4222b20a93c344e0a612c7710f9f7005"
          }
        },
        "2d4a36ed98db47a2a508ebc247b9cb8d": {
          "model_module": "@jupyter-widgets/controls",
          "model_name": "FloatProgressModel",
          "model_module_version": "1.5.0",
          "state": {
            "_view_name": "ProgressView",
            "style": "IPY_MODEL_b86510ae29db46b5b9d405d01163837f",
            "_dom_classes": [],
            "description": "",
            "_model_name": "FloatProgressModel",
            "bar_style": "success",
            "max": 328757843,
            "_view_module": "@jupyter-widgets/controls",
            "_model_module_version": "1.5.0",
            "value": 328757843,
            "_view_count": null,
            "_view_module_version": "1.5.0",
            "orientation": "horizontal",
            "min": 0,
            "description_tooltip": null,
            "_model_module": "@jupyter-widgets/controls",
            "layout": "IPY_MODEL_fbb17090385041209c77fa8d42b6605c"
          }
        },
        "705000c0d6c24fcb83677b737712a43a": {
          "model_module": "@jupyter-widgets/controls",
          "model_name": "HTMLModel",
          "model_module_version": "1.5.0",
          "state": {
            "_view_name": "HTMLView",
            "style": "IPY_MODEL_8bf8ad1c93cc42b9a08ec86d7f1dd843",
            "_dom_classes": [],
            "description": "",
            "_model_name": "HTMLModel",
            "placeholder": "​",
            "_view_module": "@jupyter-widgets/controls",
            "_model_module_version": "1.5.0",
            "value": " 314M/314M [00:11&lt;00:00, 30.6MB/s]",
            "_view_count": null,
            "_view_module_version": "1.5.0",
            "description_tooltip": null,
            "_model_module": "@jupyter-widgets/controls",
            "layout": "IPY_MODEL_0aec8123bde74609acde4064c6736e79"
          }
        },
        "f532c77b93d24e6aab51b42a9be49f1e": {
          "model_module": "@jupyter-widgets/controls",
          "model_name": "DescriptionStyleModel",
          "model_module_version": "1.5.0",
          "state": {
            "_view_name": "StyleView",
            "_model_name": "DescriptionStyleModel",
            "description_width": "",
            "_view_module": "@jupyter-widgets/base",
            "_model_module_version": "1.5.0",
            "_view_count": null,
            "_view_module_version": "1.2.0",
            "_model_module": "@jupyter-widgets/controls"
          }
        },
        "4222b20a93c344e0a612c7710f9f7005": {
          "model_module": "@jupyter-widgets/base",
          "model_name": "LayoutModel",
          "model_module_version": "1.2.0",
          "state": {
            "_view_name": "LayoutView",
            "grid_template_rows": null,
            "right": null,
            "justify_content": null,
            "_view_module": "@jupyter-widgets/base",
            "overflow": null,
            "_model_module_version": "1.2.0",
            "_view_count": null,
            "flex_flow": null,
            "width": null,
            "min_width": null,
            "border": null,
            "align_items": null,
            "bottom": null,
            "_model_module": "@jupyter-widgets/base",
            "top": null,
            "grid_column": null,
            "overflow_y": null,
            "overflow_x": null,
            "grid_auto_flow": null,
            "grid_area": null,
            "grid_template_columns": null,
            "flex": null,
            "_model_name": "LayoutModel",
            "justify_items": null,
            "grid_row": null,
            "max_height": null,
            "align_content": null,
            "visibility": null,
            "align_self": null,
            "height": null,
            "min_height": null,
            "padding": null,
            "grid_auto_rows": null,
            "grid_gap": null,
            "max_width": null,
            "order": null,
            "_view_module_version": "1.2.0",
            "grid_template_areas": null,
            "object_position": null,
            "object_fit": null,
            "grid_auto_columns": null,
            "margin": null,
            "display": null,
            "left": null
          }
        },
        "b86510ae29db46b5b9d405d01163837f": {
          "model_module": "@jupyter-widgets/controls",
          "model_name": "ProgressStyleModel",
          "model_module_version": "1.5.0",
          "state": {
            "_view_name": "StyleView",
            "_model_name": "ProgressStyleModel",
            "description_width": "",
            "_view_module": "@jupyter-widgets/base",
            "_model_module_version": "1.5.0",
            "_view_count": null,
            "_view_module_version": "1.2.0",
            "bar_color": null,
            "_model_module": "@jupyter-widgets/controls"
          }
        },
        "fbb17090385041209c77fa8d42b6605c": {
          "model_module": "@jupyter-widgets/base",
          "model_name": "LayoutModel",
          "model_module_version": "1.2.0",
          "state": {
            "_view_name": "LayoutView",
            "grid_template_rows": null,
            "right": null,
            "justify_content": null,
            "_view_module": "@jupyter-widgets/base",
            "overflow": null,
            "_model_module_version": "1.2.0",
            "_view_count": null,
            "flex_flow": null,
            "width": null,
            "min_width": null,
            "border": null,
            "align_items": null,
            "bottom": null,
            "_model_module": "@jupyter-widgets/base",
            "top": null,
            "grid_column": null,
            "overflow_y": null,
            "overflow_x": null,
            "grid_auto_flow": null,
            "grid_area": null,
            "grid_template_columns": null,
            "flex": null,
            "_model_name": "LayoutModel",
            "justify_items": null,
            "grid_row": null,
            "max_height": null,
            "align_content": null,
            "visibility": null,
            "align_self": null,
            "height": null,
            "min_height": null,
            "padding": null,
            "grid_auto_rows": null,
            "grid_gap": null,
            "max_width": null,
            "order": null,
            "_view_module_version": "1.2.0",
            "grid_template_areas": null,
            "object_position": null,
            "object_fit": null,
            "grid_auto_columns": null,
            "margin": null,
            "display": null,
            "left": null
          }
        },
        "8bf8ad1c93cc42b9a08ec86d7f1dd843": {
          "model_module": "@jupyter-widgets/controls",
          "model_name": "DescriptionStyleModel",
          "model_module_version": "1.5.0",
          "state": {
            "_view_name": "StyleView",
            "_model_name": "DescriptionStyleModel",
            "description_width": "",
            "_view_module": "@jupyter-widgets/base",
            "_model_module_version": "1.5.0",
            "_view_count": null,
            "_view_module_version": "1.2.0",
            "_model_module": "@jupyter-widgets/controls"
          }
        },
        "0aec8123bde74609acde4064c6736e79": {
          "model_module": "@jupyter-widgets/base",
          "model_name": "LayoutModel",
          "model_module_version": "1.2.0",
          "state": {
            "_view_name": "LayoutView",
            "grid_template_rows": null,
            "right": null,
            "justify_content": null,
            "_view_module": "@jupyter-widgets/base",
            "overflow": null,
            "_model_module_version": "1.2.0",
            "_view_count": null,
            "flex_flow": null,
            "width": null,
            "min_width": null,
            "border": null,
            "align_items": null,
            "bottom": null,
            "_model_module": "@jupyter-widgets/base",
            "top": null,
            "grid_column": null,
            "overflow_y": null,
            "overflow_x": null,
            "grid_auto_flow": null,
            "grid_area": null,
            "grid_template_columns": null,
            "flex": null,
            "_model_name": "LayoutModel",
            "justify_items": null,
            "grid_row": null,
            "max_height": null,
            "align_content": null,
            "visibility": null,
            "align_self": null,
            "height": null,
            "min_height": null,
            "padding": null,
            "grid_auto_rows": null,
            "grid_gap": null,
            "max_width": null,
            "order": null,
            "_view_module_version": "1.2.0",
            "grid_template_areas": null,
            "object_position": null,
            "object_fit": null,
            "grid_auto_columns": null,
            "margin": null,
            "display": null,
            "left": null
          }
        },
        "43592814604c42c1b3121f44a2bf3fb3": {
          "model_module": "@jupyter-widgets/controls",
          "model_name": "HBoxModel",
          "model_module_version": "1.5.0",
          "state": {
            "_view_name": "HBoxView",
            "_dom_classes": [],
            "_model_name": "HBoxModel",
            "_view_module": "@jupyter-widgets/controls",
            "_model_module_version": "1.5.0",
            "_view_count": null,
            "_view_module_version": "1.5.0",
            "box_style": "",
            "layout": "IPY_MODEL_3b075098f9b24ff6ac027b4f0954109b",
            "_model_module": "@jupyter-widgets/controls",
            "children": [
              "IPY_MODEL_811c9c3b75834ee3a9942fd3804a3180",
              "IPY_MODEL_92f823a0e6b745228ac8e583366dc3e0",
              "IPY_MODEL_debef0cda4e74d3198debae2558d885e"
            ]
          }
        },
        "3b075098f9b24ff6ac027b4f0954109b": {
          "model_module": "@jupyter-widgets/base",
          "model_name": "LayoutModel",
          "model_module_version": "1.2.0",
          "state": {
            "_view_name": "LayoutView",
            "grid_template_rows": null,
            "right": null,
            "justify_content": null,
            "_view_module": "@jupyter-widgets/base",
            "overflow": null,
            "_model_module_version": "1.2.0",
            "_view_count": null,
            "flex_flow": null,
            "width": null,
            "min_width": null,
            "border": null,
            "align_items": null,
            "bottom": null,
            "_model_module": "@jupyter-widgets/base",
            "top": null,
            "grid_column": null,
            "overflow_y": null,
            "overflow_x": null,
            "grid_auto_flow": null,
            "grid_area": null,
            "grid_template_columns": null,
            "flex": null,
            "_model_name": "LayoutModel",
            "justify_items": null,
            "grid_row": null,
            "max_height": null,
            "align_content": null,
            "visibility": null,
            "align_self": null,
            "height": null,
            "min_height": null,
            "padding": null,
            "grid_auto_rows": null,
            "grid_gap": null,
            "max_width": null,
            "order": null,
            "_view_module_version": "1.2.0",
            "grid_template_areas": null,
            "object_position": null,
            "object_fit": null,
            "grid_auto_columns": null,
            "margin": null,
            "display": null,
            "left": null
          }
        },
        "811c9c3b75834ee3a9942fd3804a3180": {
          "model_module": "@jupyter-widgets/controls",
          "model_name": "HTMLModel",
          "model_module_version": "1.5.0",
          "state": {
            "_view_name": "HTMLView",
            "style": "IPY_MODEL_af96da14a55043e7b198d6c66fa65a5c",
            "_dom_classes": [],
            "description": "",
            "_model_name": "HTMLModel",
            "placeholder": "​",
            "_view_module": "@jupyter-widgets/controls",
            "_model_module_version": "1.5.0",
            "value": "100%",
            "_view_count": null,
            "_view_module_version": "1.5.0",
            "description_tooltip": null,
            "_model_module": "@jupyter-widgets/controls",
            "layout": "IPY_MODEL_9d8f6e3963c640dc81b3848505084e17"
          }
        },
        "92f823a0e6b745228ac8e583366dc3e0": {
          "model_module": "@jupyter-widgets/controls",
          "model_name": "FloatProgressModel",
          "model_module_version": "1.5.0",
          "state": {
            "_view_name": "ProgressView",
            "style": "IPY_MODEL_1d9b5e90406549bbae0fd7a58fc14285",
            "_dom_classes": [],
            "description": "",
            "_model_name": "FloatProgressModel",
            "bar_style": "success",
            "max": 23049477885,
            "_view_module": "@jupyter-widgets/controls",
            "_model_module_version": "1.5.0",
            "value": 23049477885,
            "_view_count": null,
            "_view_module_version": "1.5.0",
            "orientation": "horizontal",
            "min": 0,
            "description_tooltip": null,
            "_model_module": "@jupyter-widgets/controls",
            "layout": "IPY_MODEL_c21931d4749d49418ba1fb5412c88d25"
          }
        },
        "debef0cda4e74d3198debae2558d885e": {
          "model_module": "@jupyter-widgets/controls",
          "model_name": "HTMLModel",
          "model_module_version": "1.5.0",
          "state": {
            "_view_name": "HTMLView",
            "style": "IPY_MODEL_3ebd5b1a09ff4e8385a40017c293a218",
            "_dom_classes": [],
            "description": "",
            "_model_name": "HTMLModel",
            "placeholder": "​",
            "_view_module": "@jupyter-widgets/controls",
            "_model_module_version": "1.5.0",
            "value": " 21.5G/21.5G [13:15&lt;00:00, 30.2MB/s]",
            "_view_count": null,
            "_view_module_version": "1.5.0",
            "description_tooltip": null,
            "_model_module": "@jupyter-widgets/controls",
            "layout": "IPY_MODEL_2a4a1908cb1b4d029ea50ab686c3e2ac"
          }
        },
        "af96da14a55043e7b198d6c66fa65a5c": {
          "model_module": "@jupyter-widgets/controls",
          "model_name": "DescriptionStyleModel",
          "model_module_version": "1.5.0",
          "state": {
            "_view_name": "StyleView",
            "_model_name": "DescriptionStyleModel",
            "description_width": "",
            "_view_module": "@jupyter-widgets/base",
            "_model_module_version": "1.5.0",
            "_view_count": null,
            "_view_module_version": "1.2.0",
            "_model_module": "@jupyter-widgets/controls"
          }
        },
        "9d8f6e3963c640dc81b3848505084e17": {
          "model_module": "@jupyter-widgets/base",
          "model_name": "LayoutModel",
          "model_module_version": "1.2.0",
          "state": {
            "_view_name": "LayoutView",
            "grid_template_rows": null,
            "right": null,
            "justify_content": null,
            "_view_module": "@jupyter-widgets/base",
            "overflow": null,
            "_model_module_version": "1.2.0",
            "_view_count": null,
            "flex_flow": null,
            "width": null,
            "min_width": null,
            "border": null,
            "align_items": null,
            "bottom": null,
            "_model_module": "@jupyter-widgets/base",
            "top": null,
            "grid_column": null,
            "overflow_y": null,
            "overflow_x": null,
            "grid_auto_flow": null,
            "grid_area": null,
            "grid_template_columns": null,
            "flex": null,
            "_model_name": "LayoutModel",
            "justify_items": null,
            "grid_row": null,
            "max_height": null,
            "align_content": null,
            "visibility": null,
            "align_self": null,
            "height": null,
            "min_height": null,
            "padding": null,
            "grid_auto_rows": null,
            "grid_gap": null,
            "max_width": null,
            "order": null,
            "_view_module_version": "1.2.0",
            "grid_template_areas": null,
            "object_position": null,
            "object_fit": null,
            "grid_auto_columns": null,
            "margin": null,
            "display": null,
            "left": null
          }
        },
        "1d9b5e90406549bbae0fd7a58fc14285": {
          "model_module": "@jupyter-widgets/controls",
          "model_name": "ProgressStyleModel",
          "model_module_version": "1.5.0",
          "state": {
            "_view_name": "StyleView",
            "_model_name": "ProgressStyleModel",
            "description_width": "",
            "_view_module": "@jupyter-widgets/base",
            "_model_module_version": "1.5.0",
            "_view_count": null,
            "_view_module_version": "1.2.0",
            "bar_color": null,
            "_model_module": "@jupyter-widgets/controls"
          }
        },
        "c21931d4749d49418ba1fb5412c88d25": {
          "model_module": "@jupyter-widgets/base",
          "model_name": "LayoutModel",
          "model_module_version": "1.2.0",
          "state": {
            "_view_name": "LayoutView",
            "grid_template_rows": null,
            "right": null,
            "justify_content": null,
            "_view_module": "@jupyter-widgets/base",
            "overflow": null,
            "_model_module_version": "1.2.0",
            "_view_count": null,
            "flex_flow": null,
            "width": null,
            "min_width": null,
            "border": null,
            "align_items": null,
            "bottom": null,
            "_model_module": "@jupyter-widgets/base",
            "top": null,
            "grid_column": null,
            "overflow_y": null,
            "overflow_x": null,
            "grid_auto_flow": null,
            "grid_area": null,
            "grid_template_columns": null,
            "flex": null,
            "_model_name": "LayoutModel",
            "justify_items": null,
            "grid_row": null,
            "max_height": null,
            "align_content": null,
            "visibility": null,
            "align_self": null,
            "height": null,
            "min_height": null,
            "padding": null,
            "grid_auto_rows": null,
            "grid_gap": null,
            "max_width": null,
            "order": null,
            "_view_module_version": "1.2.0",
            "grid_template_areas": null,
            "object_position": null,
            "object_fit": null,
            "grid_auto_columns": null,
            "margin": null,
            "display": null,
            "left": null
          }
        },
        "3ebd5b1a09ff4e8385a40017c293a218": {
          "model_module": "@jupyter-widgets/controls",
          "model_name": "DescriptionStyleModel",
          "model_module_version": "1.5.0",
          "state": {
            "_view_name": "StyleView",
            "_model_name": "DescriptionStyleModel",
            "description_width": "",
            "_view_module": "@jupyter-widgets/base",
            "_model_module_version": "1.5.0",
            "_view_count": null,
            "_view_module_version": "1.2.0",
            "_model_module": "@jupyter-widgets/controls"
          }
        },
        "2a4a1908cb1b4d029ea50ab686c3e2ac": {
          "model_module": "@jupyter-widgets/base",
          "model_name": "LayoutModel",
          "model_module_version": "1.2.0",
          "state": {
            "_view_name": "LayoutView",
            "grid_template_rows": null,
            "right": null,
            "justify_content": null,
            "_view_module": "@jupyter-widgets/base",
            "overflow": null,
            "_model_module_version": "1.2.0",
            "_view_count": null,
            "flex_flow": null,
            "width": null,
            "min_width": null,
            "border": null,
            "align_items": null,
            "bottom": null,
            "_model_module": "@jupyter-widgets/base",
            "top": null,
            "grid_column": null,
            "overflow_y": null,
            "overflow_x": null,
            "grid_auto_flow": null,
            "grid_area": null,
            "grid_template_columns": null,
            "flex": null,
            "_model_name": "LayoutModel",
            "justify_items": null,
            "grid_row": null,
            "max_height": null,
            "align_content": null,
            "visibility": null,
            "align_self": null,
            "height": null,
            "min_height": null,
            "padding": null,
            "grid_auto_rows": null,
            "grid_gap": null,
            "max_width": null,
            "order": null,
            "_view_module_version": "1.2.0",
            "grid_template_areas": null,
            "object_position": null,
            "object_fit": null,
            "grid_auto_columns": null,
            "margin": null,
            "display": null,
            "left": null
          }
        }
      }
    }
  },
  "cells": [
    {
      "cell_type": "code",
      "execution_count": null,
      "source": [
        "\"\"\"\r\n",
        "You can run either this notebook locally (if you have all the dependencies and a GPU) or on Google Colab.\r\n",
        "\r\n",
        "Instructions for setting up Colab are as follows:\r\n",
        "1. Open a new Python 3 notebook.\r\n",
        "2. Import this notebook from GitHub (File -> Upload Notebook -> \"GITHUB\" tab -> copy/paste GitHub URL)\r\n",
        "3. Connect to an instance with a GPU (Runtime -> Change runtime type -> select \"GPU\" for hardware accelerator)\r\n",
        "4. Run this cell to set up dependencies.\r\n",
        "5. Restart the runtime (Runtime -> Restart Runtime) for any upgraded packages to take effect\r\n",
        "\"\"\"\r\n",
        "# If you're using Google Colab and not running locally, run this cell.\r\n",
        "\r\n",
        "## Install dependencies\r\n",
        "!pip install wget\r\n",
        "!apt-get install sox libsndfile1 ffmpeg\r\n",
        "!pip install unidecode\r\n",
        "!pip install matplotlib>=3.3.2\r\n",
        "!apt-get install libsox-fmt-all libsox-dev sox > /dev/null\r\n",
        "!pip install torchaudio\r\n",
        "!python -m pip install git+https://github.com/facebookresearch/WavAugment.git > /dev/null\r\n",
        "!pip install wandb\r\n",
        "\r\n",
        "## Install NeMo\r\n",
        "BRANCH = 'main'\r\n",
        "!python -m pip install git+https://github.com/NVIDIA/NeMo.git@$BRANCH#egg=nemo_toolkit[all]\r\n",
        "\r\n",
        "# install beam search decoder\r\n",
        "!apt-get install -y swig\r\n",
        "!git clone https://github.com/NVIDIA/NeMo -b \"$BRANCH\"\r\n",
        "!cd NeMo && bash scripts/asr_language_modeling/ngram_lm/install_beamsearch_decoders.sh\r\n",
        "\r\n",
        "\r\n",
        "\"\"\"\r\n",
        "Remember to restart the runtime for the kernel to pick up any upgraded packages (e.g. matplotlib)!\r\n",
        "Alternatively, you can uncomment the exit() below to crash and restart the kernel, in the case\r\n",
        "that you want to use the \"Run All Cells\" (or similar) option.\r\n",
        "\"\"\"\r\n",
        "# exit()\r\n",
        "from IPython.display import clear_output\r\n",
        "clear_output()"
      ],
      "outputs": [],
      "metadata": {
        "id": "JSiqSDo0oIL1"
      }
    },
    {
      "cell_type": "code",
      "execution_count": null,
      "source": [
        "import os\r\n",
        "import re\r\n",
        "import wget\r\n",
        "import gzip\r\n",
        "import shutil\r\n",
        "\r\n",
        "import nemo\r\n",
        "import nemo.collections.asr as nemo_asr\r\n",
        "import torch\r\n",
        "import torch.nn as nn\r\n",
        "import numpy as np\r\n",
        "import pandas as pd\r\n",
        "import augment\r\n",
        "import torchaudio\r\n",
        "import torchaudio.datasets\r\n",
        "from pathlib import Path\r\n",
        "from google.colab import files\r\n",
        "\r\n",
        "from datetime import datetime as dt\r\n",
        "from tqdm import tqdm\r\n",
        "import matplotlib.pyplot as plt\r\n",
        "\r\n",
        "from asr.metrics import ASRMetricFunction, CTCLossFunction\r\n",
        "from asr.visualisation import play_audio, print_err_html, print_stats, plot_waveform\r\n",
        "from asr.general import set_parameter_requires_grad, load_checkpoint, save_checkpoint, tensors_to_device, tensor_to_string\r\n",
        "from asr.models import BeamSearchDecoderWithLM\r\n",
        "from asr.datasets import LibriSpeechBookDataset\r\n",
        "from IPython.display import YouTubeVideo, clear_output\r\n",
        "clear_output()\r\n",
        "\r\n",
        "print('Setup complete. Using torch %s %s' % (torch.__version__, torch.cuda.get_device_properties(0) if torch.cuda.is_available() else 'CPU'))\r\n",
        "\r\n",
        "dataroot = os.path.join(\".\")\r\n",
        "\r\n",
        "DEVICE = \"cuda\" if torch.cuda.is_available() else \"cpu\"\r\n",
        "MODEL_NAME='stt_en_jasper10x5dr'\r\n",
        "LM_3GRAM_PATH = '3-gram.arpa'\r\n",
        "ROOT = os.path.join(\".\")\r\n",
        "\r\n",
        "# The csv files containing the data\r\n",
        "train_clean_100_path = os.path.join(dataroot, \"data\", \"train-clean-100.csv\")\r\n",
        "train_clean_360_path = os.path.join(dataroot, \"data\", \"train-clean-360.csv\")\r\n",
        "dev_clean_path = os.path.join(dataroot, \"data\", \"dev-clean.csv\")\r\n",
        "test_clean_path = os.path.join(dataroot, \"data\", \"test-clean.csv\")\r\n",
        "dev_other_path = os.path.join(dataroot, \"data\", \"dev-other.csv\")\r\n",
        "test_other_path = os.path.join(dataroot, \"data\", \"test-other.csv\")"
      ],
      "outputs": [
        {
          "output_type": "stream",
          "name": "stdout",
          "text": [
            "Setup complete. Using torch 1.9.0+cu102 CPU\n"
          ]
        }
      ],
      "metadata": {
        "colab": {
          "base_uri": "https://localhost:8080/"
        },
        "id": "ch1MxTVao8KZ",
        "outputId": "4b37d15f-9809-4268-db6c-63c228bd97e9"
      }
    },
    {
      "cell_type": "code",
      "execution_count": null,
      "source": [
        "def download_lm(lm_path):\r\n",
        "    %rm -v \"{lm_path}\"*\r\n",
        "    !wget \"https://www.openslr.org/resources/11/{lm_path}.gz\" -O \"{lm_path}.gz\"\r\n",
        "    !gzip -cdv \"{lm_path}.gz\" > \"{lm_path}\"\r\n",
        "\r\n",
        "model = nemo_asr.models.EncDecCTCModel.from_pretrained(model_name=MODEL_NAME, strict=False).to(DEVICE)\r\n",
        "\r\n",
        "VOCABULARY = list(map(lambda x: x.upper(), model.decoder.vocabulary))\r\n",
        "vocab = VOCABULARY + ['<pad>']\r\n",
        "BLANK = len(vocab) - 1 \r\n",
        "\r\n",
        "DICTIONARY = dict(zip(vocab, range(len(vocab))))\r\n",
        "LABELS = {v:k for k, v in DICTIONARY.items()}\r\n",
        "\r\n",
        "if not os.path.exists(LM_3GRAM_PATH):\r\n",
        "    download_lm(LM_3GRAM_PATH)\r\n",
        "beam_search_lm = BeamSearchDecoderWithLM(\r\n",
        "    vocab=VOCABULARY,\r\n",
        "    beam_width=16,\r\n",
        "    alpha=1.5, beta=1.5,\r\n",
        "    lm_path=LM_3GRAM_PATH,\r\n",
        "    num_cpus=max(os.cpu_count(), 1))\r\n",
        "clear_output()"
      ],
      "outputs": [],
      "metadata": {
        "id": "QEc5H3bFpLAy"
      }
    },
    {
      "cell_type": "code",
      "execution_count": null,
      "source": [
        "dev_dataset = LibriSpeechBookDataset(root=ROOT, url=\"dev-clean\", folder_in_archive=\"LibriSpeech\", download=True)\r\n",
        "test_dataset = LibriSpeechBookDataset(root=ROOT, url=\"test-clean\", folder_in_archive=\"LibriSpeech\", download=True)\r\n",
        "train_dataset = LibriSpeechBookDataset(root=ROOT, url=\"train-clean-100\", folder_in_archive=\"LibriSpeech\", download=True)"
      ],
      "outputs": [],
      "metadata": {
        "id": "BDLtCr2JztJZ"
      }
    },
    {
      "cell_type": "code",
      "execution_count": null,
      "source": [
        "dev_dataset_other = LibriSpeechBookDataset(root=ROOT, url=\"dev-other\", folder_in_archive=\"LibriSpeech\", download=True)\r\n",
        "test_dataset_other = LibriSpeechBookDataset(root=ROOT, url=\"test-other\", folder_in_archive=\"LibriSpeech\", download=True)\r\n",
        "train_dataset_2 = LibriSpeechBookDataset(root=ROOT, url=\"train-clean-360\", folder_in_archive=\"LibriSpeech\", download=True)"
      ],
      "outputs": [
        {
          "output_type": "display_data",
          "data": {
            "text/plain": [
              "  0%|          | 0.00/300M [00:00<?, ?B/s]"
            ],
            "application/vnd.jupyter.widget-view+json": {
              "model_id": "c9386730729446189c9e149a09bb2748",
              "version_major": 2,
              "version_minor": 0
            }
          },
          "metadata": {}
        },
        {
          "output_type": "display_data",
          "data": {
            "text/plain": [
              "  0%|          | 0.00/314M [00:00<?, ?B/s]"
            ],
            "application/vnd.jupyter.widget-view+json": {
              "model_id": "64db33e2d07542dcb5763c16a6ccb7e0",
              "version_major": 2,
              "version_minor": 0
            }
          },
          "metadata": {}
        },
        {
          "output_type": "display_data",
          "data": {
            "text/plain": [
              "  0%|          | 0.00/21.5G [00:00<?, ?B/s]"
            ],
            "application/vnd.jupyter.widget-view+json": {
              "model_id": "43592814604c42c1b3121f44a2bf3fb3",
              "version_major": 2,
              "version_minor": 0
            }
          },
          "metadata": {}
        }
      ],
      "metadata": {
        "colab": {
          "base_uri": "https://localhost:8080/",
          "height": 113,
          "referenced_widgets": [
            "c9386730729446189c9e149a09bb2748",
            "08e17edc45ce439da1c2baef312d65f0",
            "331a86d96d54425ab6462c16d2f7b537",
            "12a66b6a2e834f35832f2257b98c43f5",
            "4110e4f67a894005a8a9da31af4089bd",
            "c6648ec55fcd4b3591475399f33fba00",
            "becf7035babf458ab4b01ce6fadf9440",
            "82e11ce4ad074b3c880df03142b5b623",
            "f952471de6824fec8234267609642e69",
            "d5fb97dd39c44aea92494ee254cd05af",
            "37f9c1ce59464f7aada5bb1c0461eb7b",
            "64db33e2d07542dcb5763c16a6ccb7e0",
            "cd78939552e044c7af2ef459118728db",
            "5e2273a2a77a411ca0637aa8df5447f9",
            "2d4a36ed98db47a2a508ebc247b9cb8d",
            "705000c0d6c24fcb83677b737712a43a",
            "f532c77b93d24e6aab51b42a9be49f1e",
            "4222b20a93c344e0a612c7710f9f7005",
            "b86510ae29db46b5b9d405d01163837f",
            "fbb17090385041209c77fa8d42b6605c",
            "8bf8ad1c93cc42b9a08ec86d7f1dd843",
            "0aec8123bde74609acde4064c6736e79",
            "43592814604c42c1b3121f44a2bf3fb3",
            "3b075098f9b24ff6ac027b4f0954109b",
            "811c9c3b75834ee3a9942fd3804a3180",
            "92f823a0e6b745228ac8e583366dc3e0",
            "debef0cda4e74d3198debae2558d885e",
            "af96da14a55043e7b198d6c66fa65a5c",
            "9d8f6e3963c640dc81b3848505084e17",
            "1d9b5e90406549bbae0fd7a58fc14285",
            "c21931d4749d49418ba1fb5412c88d25",
            "3ebd5b1a09ff4e8385a40017c293a218",
            "2a4a1908cb1b4d029ea50ab686c3e2ac"
          ]
        },
        "id": "D5xC9heXkM3J",
        "outputId": "69ca7914-3c5f-49f2-cb7c-2fdf3915f85f"
      }
    },
    {
      "cell_type": "code",
      "execution_count": null,
      "source": [
        "def get_best_transcriptions(transcriptions):\r\n",
        "    return list(map(lambda xs: xs[0][1], transcriptions))"
      ],
      "outputs": [],
      "metadata": {
        "id": "m_Zv8lQ1huTV"
      }
    },
    {
      "cell_type": "code",
      "execution_count": null,
      "source": [
        "def strip_nonas(text):\r\n",
        "    return re.sub('[\\r\\n]', '', text)"
      ],
      "outputs": [],
      "metadata": {
        "id": "CWu1u7CsyBqN"
      }
    },
    {
      "cell_type": "code",
      "execution_count": null,
      "source": [
        "loop = tqdm(train_dataset, position=0, leave=True)\r\n",
        "df = pd.DataFrame(None, columns=[\"REAL TEXT\", \"BOOK TITLE\", \"DURATION\"])\r\n",
        "\r\n",
        "for batch_idx, (waveform, transcription, booktitle, duration) in enumerate(loop):\r\n",
        "    df = df.append({\"REAL TEXT\": transcription, \"BOOK TITLE\": strip_nonas(booktitle), \"DURATION\": duration}, ignore_index=True)\r\n",
        "\r\n",
        "loop.close()\r\n",
        "df.to_csv(train_clean_100_path)\r\n",
        "\r\n",
        "print(df[\"REAL TEXT\"].apply(lambda t: len(t.split(\" \"))).describe())\r\n",
        "print(df[\"DURATION\"].describe())"
      ],
      "outputs": [
        {
          "output_type": "stream",
          "name": "stderr",
          "text": [
            "100%|██████████| 305/305 [03:09<00:00,  1.61it/s]\n"
          ]
        },
        {
          "output_type": "display_data",
          "data": {
            "text/plain": [
              "<IPython.core.display.Javascript object>"
            ],
            "application/javascript": "\n    async function download(id, filename, size) {\n      if (!google.colab.kernel.accessAllowed) {\n        return;\n      }\n      const div = document.createElement('div');\n      const label = document.createElement('label');\n      label.textContent = `Downloading \"${filename}\": `;\n      div.appendChild(label);\n      const progress = document.createElement('progress');\n      progress.max = size;\n      div.appendChild(progress);\n      document.body.appendChild(div);\n\n      const buffers = [];\n      let downloaded = 0;\n\n      const channel = await google.colab.kernel.comms.open(id);\n      // Send a message to notify the kernel that we're ready.\n      channel.send({})\n\n      for await (const message of channel.messages) {\n        // Send a message to notify the kernel that we're ready.\n        channel.send({})\n        if (message.buffers) {\n          for (const buffer of message.buffers) {\n            buffers.push(buffer);\n            downloaded += buffer.byteLength;\n            progress.value = downloaded;\n          }\n        }\n      }\n      const blob = new Blob(buffers, {type: 'application/binary'});\n      const a = document.createElement('a');\n      a.href = window.URL.createObjectURL(blob);\n      a.download = filename;\n      div.appendChild(a);\n      a.click();\n      div.remove();\n    }\n  "
          },
          "metadata": {
            "tags": []
          }
        },
        {
          "output_type": "display_data",
          "data": {
            "text/plain": [
              "<IPython.core.display.Javascript object>"
            ],
            "application/javascript": "download(\"download_1a7c16f4-72b4-4d14-ab07-5800f54f9ffd\", \"train-clean-100.csv\", 5279692)"
          },
          "metadata": {
            "tags": []
          }
        },
        {
          "output_type": "stream",
          "name": "stdout",
          "text": [
            "count      305.000000\n",
            "mean      3226.773770\n",
            "std       2456.083601\n",
            "min         78.000000\n",
            "25%       1445.000000\n",
            "50%       2792.000000\n",
            "75%       4135.000000\n",
            "max      19479.000000\n",
            "Name: REAL TEXT, dtype: float64\n",
            "count    305.000000\n",
            "mean      19.675639\n",
            "std       15.336142\n",
            "min        0.540000\n",
            "25%        9.170000\n",
            "50%       17.020000\n",
            "75%       25.110000\n",
            "max      127.620000\n",
            "Name: DURATION, dtype: float64\n"
          ]
        }
      ],
      "metadata": {
        "colab": {
          "base_uri": "https://localhost:8080/",
          "height": 357
        },
        "id": "Ws9lxkwhkjug",
        "outputId": "d11e0d1e-ea48-49fa-f509-c13b448e34a1"
      }
    },
    {
      "cell_type": "code",
      "execution_count": null,
      "source": [
        "loop = tqdm(train_dataset_2, position=0, leave=True)\r\n",
        "df = pd.DataFrame(None, columns=[\"REAL TEXT\", \"BOOK TITLE\", \"DURATION\"])\r\n",
        "\r\n",
        "for batch_idx, (waveform, transcription, booktitle, duration) in enumerate(loop):\r\n",
        "    df = df.append({\"REAL TEXT\": transcription, \"BOOK TITLE\": strip_nonas(booktitle), \"DURATION\": duration}, ignore_index=True)\r\n",
        "\r\n",
        "loop.close()\r\n",
        "df.to_csv(train_clean_360_path)\r\n",
        "\r\n",
        "print(df[\"REAL TEXT\"].apply(lambda t: len(t.split(\" \"))).describe())\r\n",
        "print(df[\"DURATION\"].describe())"
      ],
      "outputs": [
        {
          "output_type": "stream",
          "name": "stderr",
          "text": [
            "100%|██████████| 865/865 [12:45<00:00,  1.13it/s]\n"
          ]
        },
        {
          "output_type": "display_data",
          "data": {
            "text/plain": [
              "<IPython.core.display.Javascript object>"
            ],
            "application/javascript": "\n    async function download(id, filename, size) {\n      if (!google.colab.kernel.accessAllowed) {\n        return;\n      }\n      const div = document.createElement('div');\n      const label = document.createElement('label');\n      label.textContent = `Downloading \"${filename}\": `;\n      div.appendChild(label);\n      const progress = document.createElement('progress');\n      progress.max = size;\n      div.appendChild(progress);\n      document.body.appendChild(div);\n\n      const buffers = [];\n      let downloaded = 0;\n\n      const channel = await google.colab.kernel.comms.open(id);\n      // Send a message to notify the kernel that we're ready.\n      channel.send({})\n\n      for await (const message of channel.messages) {\n        // Send a message to notify the kernel that we're ready.\n        channel.send({})\n        if (message.buffers) {\n          for (const buffer of message.buffers) {\n            buffers.push(buffer);\n            downloaded += buffer.byteLength;\n            progress.value = downloaded;\n          }\n        }\n      }\n      const blob = new Blob(buffers, {type: 'application/binary'});\n      const a = document.createElement('a');\n      a.href = window.URL.createObjectURL(blob);\n      a.download = filename;\n      div.appendChild(a);\n      a.click();\n      div.remove();\n    }\n  "
          },
          "metadata": {}
        },
        {
          "output_type": "display_data",
          "data": {
            "text/plain": [
              "<IPython.core.display.Javascript object>"
            ],
            "application/javascript": "download(\"download_e3f5adf2-7cfc-4572-a0fc-5deba5a799d6\", \"train-clean-360.csv\", 19231798)"
          },
          "metadata": {}
        },
        {
          "output_type": "stream",
          "name": "stdout",
          "text": [
            "count      865.000000\n",
            "mean      4148.835838\n",
            "std       3398.631068\n",
            "min        134.000000\n",
            "25%       1777.000000\n",
            "50%       3456.000000\n",
            "75%       4999.000000\n",
            "max      42084.000000\n",
            "Name: REAL TEXT, dtype: float64\n",
            "count    865.000000\n",
            "mean      25.177827\n",
            "std       20.582275\n",
            "min        1.060000\n",
            "25%       10.840000\n",
            "50%       21.960000\n",
            "75%       30.160000\n",
            "max      254.310000\n",
            "Name: DURATION, dtype: float64\n"
          ]
        }
      ],
      "metadata": {
        "colab": {
          "base_uri": "https://localhost:8080/",
          "height": 340
        },
        "id": "VI8bAgCUkDzh",
        "outputId": "5f754d32-46be-4712-8fe5-2d654e8a1860"
      }
    },
    {
      "cell_type": "code",
      "execution_count": null,
      "source": [
        "loop = tqdm(dev_dataset_other, position=0, leave=True)\r\n",
        "df = pd.DataFrame(None, columns=[\"REAL TEXT\", \"BOOK TITLE\", \"DURATION\"])\r\n",
        "\r\n",
        "for batch_idx, (waveform, transcription, booktitle, duration) in enumerate(loop):\r\n",
        "    df = df.append({\"REAL TEXT\": transcription, \"BOOK TITLE\": strip_nonas(booktitle), \"DURATION\": duration}, ignore_index=True)\r\n",
        "\r\n",
        "loop.close()\r\n",
        "df.to_csv(dev_other_path)\r\n",
        "\r\n",
        "print(df[\"REAL TEXT\"].apply(lambda t: len(t.split(\" \"))).describe())\r\n",
        "print(df[\"DURATION\"].describe())"
      ],
      "outputs": [
        {
          "output_type": "stream",
          "name": "stderr",
          "text": [
            "100%|██████████| 62/62 [00:12<00:00,  4.93it/s]\n"
          ]
        },
        {
          "output_type": "display_data",
          "data": {
            "text/plain": [
              "<IPython.core.display.Javascript object>"
            ],
            "application/javascript": "\n    async function download(id, filename, size) {\n      if (!google.colab.kernel.accessAllowed) {\n        return;\n      }\n      const div = document.createElement('div');\n      const label = document.createElement('label');\n      label.textContent = `Downloading \"${filename}\": `;\n      div.appendChild(label);\n      const progress = document.createElement('progress');\n      progress.max = size;\n      div.appendChild(progress);\n      document.body.appendChild(div);\n\n      const buffers = [];\n      let downloaded = 0;\n\n      const channel = await google.colab.kernel.comms.open(id);\n      // Send a message to notify the kernel that we're ready.\n      channel.send({})\n\n      for await (const message of channel.messages) {\n        // Send a message to notify the kernel that we're ready.\n        channel.send({})\n        if (message.buffers) {\n          for (const buffer of message.buffers) {\n            buffers.push(buffer);\n            downloaded += buffer.byteLength;\n            progress.value = downloaded;\n          }\n        }\n      }\n      const blob = new Blob(buffers, {type: 'application/binary'});\n      const a = document.createElement('a');\n      a.href = window.URL.createObjectURL(blob);\n      a.download = filename;\n      div.appendChild(a);\n      a.click();\n      div.remove();\n    }\n  "
          },
          "metadata": {}
        },
        {
          "output_type": "display_data",
          "data": {
            "text/plain": [
              "<IPython.core.display.Javascript object>"
            ],
            "application/javascript": "download(\"download_ea491fa9-1d1a-4489-b0d2-8cff38f41aea\", \"dev-other.csv\", 271512)"
          },
          "metadata": {}
        },
        {
          "output_type": "stream",
          "name": "stdout",
          "text": [
            "count      62.000000\n",
            "mean      821.741935\n",
            "std       552.934969\n",
            "min       104.000000\n",
            "25%       368.500000\n",
            "50%       697.500000\n",
            "75%      1090.250000\n",
            "max      3219.000000\n",
            "Name: REAL TEXT, dtype: float64\n",
            "count    62.000000\n",
            "mean      4.956129\n",
            "std       3.395335\n",
            "min       0.700000\n",
            "25%       2.645000\n",
            "50%       3.875000\n",
            "75%       6.225000\n",
            "max      21.060000\n",
            "Name: DURATION, dtype: float64\n"
          ]
        }
      ],
      "metadata": {
        "colab": {
          "base_uri": "https://localhost:8080/",
          "height": 340
        },
        "id": "PzKMYF08kgnj",
        "outputId": "dcf24304-6190-4d66-c517-9b8732d42196"
      }
    },
    {
      "cell_type": "code",
      "execution_count": null,
      "source": [
        "loop = tqdm(test_dataset_other, position=0, leave=True)\r\n",
        "df = pd.DataFrame(None, columns=[\"REAL TEXT\", \"BOOK TITLE\", \"DURATION\"])\r\n",
        "\r\n",
        "for batch_idx, (waveform, transcription, booktitle, duration) in enumerate(loop):\r\n",
        "    df = df.append({\"REAL TEXT\": transcription, \"BOOK TITLE\": strip_nonas(booktitle), \"DURATION\": duration}, ignore_index=True)\r\n",
        "\r\n",
        "loop.close()\r\n",
        "df.to_csv(test_other_path)\r\n",
        "\r\n",
        "print(df[\"REAL TEXT\"].apply(lambda t: len(t.split(\" \"))).describe())\r\n",
        "print(df[\"DURATION\"].describe())"
      ],
      "outputs": [
        {
          "output_type": "stream",
          "name": "stderr",
          "text": [
            "100%|██████████| 48/48 [00:12<00:00,  3.78it/s]\n"
          ]
        },
        {
          "output_type": "display_data",
          "data": {
            "text/plain": [
              "<IPython.core.display.Javascript object>"
            ],
            "application/javascript": "\n    async function download(id, filename, size) {\n      if (!google.colab.kernel.accessAllowed) {\n        return;\n      }\n      const div = document.createElement('div');\n      const label = document.createElement('label');\n      label.textContent = `Downloading \"${filename}\": `;\n      div.appendChild(label);\n      const progress = document.createElement('progress');\n      progress.max = size;\n      div.appendChild(progress);\n      document.body.appendChild(div);\n\n      const buffers = [];\n      let downloaded = 0;\n\n      const channel = await google.colab.kernel.comms.open(id);\n      // Send a message to notify the kernel that we're ready.\n      channel.send({})\n\n      for await (const message of channel.messages) {\n        // Send a message to notify the kernel that we're ready.\n        channel.send({})\n        if (message.buffers) {\n          for (const buffer of message.buffers) {\n            buffers.push(buffer);\n            downloaded += buffer.byteLength;\n            progress.value = downloaded;\n          }\n        }\n      }\n      const blob = new Blob(buffers, {type: 'application/binary'});\n      const a = document.createElement('a');\n      a.href = window.URL.createObjectURL(blob);\n      a.download = filename;\n      div.appendChild(a);\n      a.click();\n      div.remove();\n    }\n  "
          },
          "metadata": {}
        },
        {
          "output_type": "display_data",
          "data": {
            "text/plain": [
              "<IPython.core.display.Javascript object>"
            ],
            "application/javascript": "download(\"download_4f078ab6-72ae-45b9-8080-1b3da95f4616\", \"test-other.csv\", 278161)"
          },
          "metadata": {}
        },
        {
          "output_type": "stream",
          "name": "stdout",
          "text": [
            "count      48.000000\n",
            "mean     1090.479167\n",
            "std       685.934182\n",
            "min        76.000000\n",
            "25%       557.750000\n",
            "50%      1143.500000\n",
            "75%      1561.000000\n",
            "max      3723.000000\n",
            "Name: REAL TEXT, dtype: float64\n",
            "count    48.000000\n",
            "mean      6.676875\n",
            "std       4.057966\n",
            "min       0.670000\n",
            "25%       3.305000\n",
            "50%       6.615000\n",
            "75%      10.032500\n",
            "max      23.300000\n",
            "Name: DURATION, dtype: float64\n"
          ]
        }
      ],
      "metadata": {
        "colab": {
          "base_uri": "https://localhost:8080/",
          "height": 340
        },
        "id": "i9dUi5Iyknbb",
        "outputId": "6a838e8b-b6fa-4f79-ce5a-8d943a2f0530"
      }
    },
    {
      "cell_type": "code",
      "execution_count": null,
      "source": [
        "model.eval()\r\n",
        "loop = tqdm(dev_dataset, position=0, leave=True)\r\n",
        "df = pd.DataFrame(None, columns=[\"TEXT\", \"REAL TEXT\", \"BOOK TITLE\", \"DURATION\"])\r\n",
        "\r\n",
        "for batch_idx, (waveform, transcription, booktitle, duration) in enumerate(loop):\r\n",
        "    waveform = waveform[0].to(DEVICE).unsqueeze(0)\r\n",
        "    valid_lengths = torch.tensor([waveform.shape[-1]], device=DEVICE)\r\n",
        "\r\n",
        "    with torch.no_grad():\r\n",
        "        log_probs, encoded_len, greedy_predictions = model(input_signal=waveform, input_signal_length=valid_lengths)\r\n",
        "        transcriptions = beam_search_lm(log_probs=log_probs, log_probs_length=encoded_len)\r\n",
        "\r\n",
        "    best_transcriptions = get_best_transcriptions(transcriptions)\r\n",
        "    df = df.append({\"TEXT\": best_transcriptions[0], \"REAL TEXT\": transcription, \"BOOK TITLE\": strip_nonas(booktitle), \"DURATION\": duration}, ignore_index=True)\r\n",
        "\r\n",
        "loop.close()\r\n",
        "df.to_csv(dev_clean_path)"
      ],
      "outputs": [
        {
          "output_type": "stream",
          "name": "stderr",
          "text": [
            "\r  0%|          | 0/63 [00:00<?, ?it/s][NeMo W 2021-08-16 12:00:04 patch_utils:50] torch.stft() signature has been updated for PyTorch 1.7+\n",
            "    Please update PyTorch to remain compatible with later versions of NeMo.\n",
            "[NeMo W 2021-08-16 12:00:04 nemo_logging:349] /usr/local/lib/python3.7/dist-packages/torch/_tensor.py:575: UserWarning: floor_divide is deprecated, and will be removed in a future version of pytorch. It currently rounds toward 0 (like the 'trunc' function NOT 'floor'). This results in incorrect rounding for negative values.\n",
            "    To keep the current behavior, use torch.div(a, b, rounding_mode='trunc'), or for actual floor division, use torch.div(a, b, rounding_mode='floor'). (Triggered internally at  /pytorch/aten/src/ATen/native/BinaryOps.cpp:467.)\n",
            "      return torch.floor_divide(self, other)\n",
            "    \n",
            "100%|██████████| 63/63 [07:24<00:00,  7.05s/it]\n"
          ]
        },
        {
          "output_type": "display_data",
          "data": {
            "text/plain": [
              "<IPython.core.display.Javascript object>"
            ],
            "application/javascript": "\n    async function download(id, filename, size) {\n      if (!google.colab.kernel.accessAllowed) {\n        return;\n      }\n      const div = document.createElement('div');\n      const label = document.createElement('label');\n      label.textContent = `Downloading \"${filename}\": `;\n      div.appendChild(label);\n      const progress = document.createElement('progress');\n      progress.max = size;\n      div.appendChild(progress);\n      document.body.appendChild(div);\n\n      const buffers = [];\n      let downloaded = 0;\n\n      const channel = await google.colab.kernel.comms.open(id);\n      // Send a message to notify the kernel that we're ready.\n      channel.send({})\n\n      for await (const message of channel.messages) {\n        // Send a message to notify the kernel that we're ready.\n        channel.send({})\n        if (message.buffers) {\n          for (const buffer of message.buffers) {\n            buffers.push(buffer);\n            downloaded += buffer.byteLength;\n            progress.value = downloaded;\n          }\n        }\n      }\n      const blob = new Blob(buffers, {type: 'application/binary'});\n      const a = document.createElement('a');\n      a.href = window.URL.createObjectURL(blob);\n      a.download = filename;\n      div.appendChild(a);\n      a.click();\n      div.remove();\n    }\n  "
          },
          "metadata": {
            "tags": []
          }
        },
        {
          "output_type": "display_data",
          "data": {
            "text/plain": [
              "<IPython.core.display.Javascript object>"
            ],
            "application/javascript": "download(\"download_6979a727-037b-47d7-8406-c8d34dcdbdc9\", \"dev-clean.csv\", 584236)"
          },
          "metadata": {
            "tags": []
          }
        }
      ],
      "metadata": {
        "id": "sK05xl_Phfc-",
        "colab": {
          "base_uri": "https://localhost:8080/",
          "height": 156
        },
        "outputId": "f59f0aa7-cbb9-49a2-f406-ecbedbc83613"
      }
    },
    {
      "cell_type": "code",
      "execution_count": null,
      "source": [
        "model.eval()\r\n",
        "loop = tqdm(test_dataset, position=0, leave=True)\r\n",
        "df = pd.DataFrame(None, columns=[\"TEXT\", \"REAL TEXT\", \"BOOK TITLE\", \"DURATION\"])\r\n",
        "\r\n",
        "for batch_idx, (waveform, transcription, booktitle, duration) in enumerate(loop):\r\n",
        "    waveform = waveform[0].to(DEVICE).unsqueeze(0)\r\n",
        "    valid_lengths = torch.tensor([waveform.shape[-1]], device=DEVICE)\r\n",
        "\r\n",
        "    with torch.no_grad():\r\n",
        "        log_probs, encoded_len, greedy_predictions = model(input_signal=waveform, input_signal_length=valid_lengths)\r\n",
        "        transcriptions = beam_search_lm(log_probs=log_probs, log_probs_length=encoded_len)\r\n",
        "\r\n",
        "    best_transcriptions = get_best_transcriptions(transcriptions)\r\n",
        "    df = df.append({\"TEXT\": best_transcriptions[0], \"REAL TEXT\": transcription, \"BOOK TITLE\": strip_nonas(booktitle), \"DURATION\": duration}, ignore_index=True)\r\n",
        "\r\n",
        "loop.close()\r\n",
        "df.to_csv(test_clean_path)"
      ],
      "outputs": [
        {
          "output_type": "stream",
          "name": "stderr",
          "text": [
            "100%|██████████| 54/54 [07:41<00:00,  8.55s/it]\n"
          ]
        },
        {
          "output_type": "display_data",
          "data": {
            "text/plain": [
              "<IPython.core.display.Javascript object>"
            ],
            "application/javascript": "\n    async function download(id, filename, size) {\n      if (!google.colab.kernel.accessAllowed) {\n        return;\n      }\n      const div = document.createElement('div');\n      const label = document.createElement('label');\n      label.textContent = `Downloading \"${filename}\": `;\n      div.appendChild(label);\n      const progress = document.createElement('progress');\n      progress.max = size;\n      div.appendChild(progress);\n      document.body.appendChild(div);\n\n      const buffers = [];\n      let downloaded = 0;\n\n      const channel = await google.colab.kernel.comms.open(id);\n      // Send a message to notify the kernel that we're ready.\n      channel.send({})\n\n      for await (const message of channel.messages) {\n        // Send a message to notify the kernel that we're ready.\n        channel.send({})\n        if (message.buffers) {\n          for (const buffer of message.buffers) {\n            buffers.push(buffer);\n            downloaded += buffer.byteLength;\n            progress.value = downloaded;\n          }\n        }\n      }\n      const blob = new Blob(buffers, {type: 'application/binary'});\n      const a = document.createElement('a');\n      a.href = window.URL.createObjectURL(blob);\n      a.download = filename;\n      div.appendChild(a);\n      a.click();\n      div.remove();\n    }\n  "
          },
          "metadata": {
            "tags": []
          }
        },
        {
          "output_type": "display_data",
          "data": {
            "text/plain": [
              "<IPython.core.display.Javascript object>"
            ],
            "application/javascript": "download(\"download_acab5475-fb1e-41a9-a033-e6788eb979a7\", \"test-clean.csv\", 569593)"
          },
          "metadata": {
            "tags": []
          }
        }
      ],
      "metadata": {
        "id": "qQPJ9waaTPHw",
        "colab": {
          "base_uri": "https://localhost:8080/",
          "height": 34
        },
        "outputId": "c63ee941-1bce-4f48-cfc8-f73f5612a444"
      }
    },
    {
      "cell_type": "code",
      "execution_count": null,
      "source": [
        "model.eval()\r\n",
        "loop = tqdm(train_dataset, position=0, leave=True)\r\n",
        "df = pd.DataFrame(None, columns=[\"TEXT\", \"REAL TEXT\", \"BOOK TITLE\", \"DURATION\"])\r\n",
        "\r\n",
        "for batch_idx, (waveform, transcription, booktitle, duration) in enumerate(loop):\r\n",
        "    waveform = waveform[0].to(DEVICE).unsqueeze(0)\r\n",
        "    valid_lengths = torch.tensor([waveform.shape[-1]], device=DEVICE)\r\n",
        "\r\n",
        "    with torch.no_grad():\r\n",
        "        log_probs, encoded_len, greedy_predictions = model(input_signal=waveform, input_signal_length=valid_lengths)\r\n",
        "        transcriptions = beam_search_lm(log_probs=log_probs, log_probs_length=encoded_len)\r\n",
        "\r\n",
        "    best_transcriptions = get_best_transcriptions(transcriptions)\r\n",
        "    df = df.append({\"TEXT\": best_transcriptions[0], \"REAL TEXT\": transcription, \"BOOK TITLE\": booktitle, \"DURATION\": duration}, ignore_index=True)\r\n",
        "\r\n",
        "loop.close()\r\n",
        "df.to_csv(train_clean_100_path)"
      ],
      "outputs": [],
      "metadata": {
        "id": "H64SHq54hq5r"
      }
    },
    {
      "cell_type": "code",
      "execution_count": null,
      "source": [
        "book_dataset = LibriSpeechBookDataset(root=ROOT, url=\"dev-other\", folder_in_archive=\"LibriSpeech\", download=True)\r\n",
        "\r\n",
        "loop = tqdm(train_dataset, position=0, leave=True)\r\n",
        "outdir = \"out\"\r\n",
        "os.makedirs(outdir, exist_ok=True)\r\n",
        "\r\n",
        "for batch_idx, (waveform, _, booktitle, _) in enumerate(loop):\r\n",
        "    torchaudio.save(f\"{outdir}/{strip_nonas(booktitle)}.wav\", waveform, 16_000)\r\n",
        "    if batch_idx > 3:\r\n",
        "        break\r\n",
        "\r\n",
        "loop.close()"
      ],
      "outputs": [],
      "metadata": {
        "id": "B-qLqHRBN0ip"
      }
    }
  ]
}