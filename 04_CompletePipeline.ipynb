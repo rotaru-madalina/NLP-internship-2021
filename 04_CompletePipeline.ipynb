{
  "nbformat": 4,
  "nbformat_minor": 2,
  "metadata": {
    "colab": {
      "name": "04_CompletePipeline.ipynb",
      "provenance": [],
      "collapsed_sections": []
    },
    "kernelspec": {
      "name": "python3",
      "display_name": "Python 3"
    },
    "language_info": {
      "name": "python"
    }
  },
  "cells": [
    {
      "cell_type": "markdown",
      "source": [
        "# Dependencies"
      ],
      "metadata": {
        "id": "vSD2Vogk8zd8"
      }
    },
    {
      "cell_type": "code",
      "execution_count": null,
      "source": [
        "\"\"\"\r\n",
        "You can run either this notebook locally (if you have all the dependencies and a GPU) or on Google Colab.\r\n",
        "\r\n",
        "Instructions for setting up Colab are as follows:\r\n",
        "1. Open a new Python 3 notebook.\r\n",
        "2. Import this notebook from GitHub (File -> Upload Notebook -> \"GITHUB\" tab -> copy/paste GitHub URL)\r\n",
        "3. Connect to an instance with a GPU (Runtime -> Change runtime type -> select \"GPU\" for hardware accelerator)\r\n",
        "4. Run this cell to set up dependencies.\r\n",
        "5. Restart the runtime (Runtime -> Restart Runtime) for any upgraded packages to take effect\r\n",
        "\"\"\"\r\n",
        "# If you're using Google Colab and not running locally, run this cell.\r\n",
        "!pip install torchaudio\r\n",
        "\r\n",
        "## Install NeMo\r\n",
        "BRANCH = 'main'\r\n",
        "!python -m pip install git+https://github.com/NVIDIA/NeMo.git@$BRANCH#egg=nemo_toolkit[all]\r\n",
        "\r\n",
        "# install beam search decoder\r\n",
        "!apt-get install -y swig\r\n",
        "!git clone https://github.com/NVIDIA/NeMo -b \"$BRANCH\"\r\n",
        "!cd NeMo && bash scripts/asr_language_modeling/ngram_lm/install_beamsearch_decoders.sh\r\n",
        "\r\n",
        "\"\"\"\r\n",
        "Remember to restart the runtime for the kernel to pick up any upgraded packages (e.g. matplotlib)!\r\n",
        "Alternatively, you can uncomment the exit() below to crash and restart the kernel, in the case\r\n",
        "that you want to use the \"Run All Cells\" (or similar) option.\r\n",
        "\"\"\"\r\n",
        "# exit()\r\n",
        "from IPython.display import clear_output\r\n",
        "clear_output()"
      ],
      "outputs": [],
      "metadata": {
        "id": "hcBUkFSF7Hwx"
      }
    },
    {
      "cell_type": "markdown",
      "source": [
        "# Imports"
      ],
      "metadata": {
        "id": "tH58T8lX82ai"
      }
    },
    {
      "cell_type": "code",
      "execution_count": null,
      "source": [
        "import os\r\n",
        "\r\n",
        "import nemo\r\n",
        "import nemo.collections.asr as nemo_asr\r\n",
        "import torch\r\n",
        "\r\n",
        "from asr.visualisation import play_audio, print_err_html\r\n",
        "from asr.models import BeamSearchDecoderWithLM\r\n",
        "from asr.datasets import LibriSpeechBookDataset\r\n",
        "\r\n",
        "import nltk\r\n",
        "from nltk import word_tokenize\r\n",
        "\r\n",
        "from gensim.corpora import Dictionary\r\n",
        "from gensim.models.hdpmodel import HdpModel\r\n",
        "\r\n",
        "import matplotlib.pyplot as plt\r\n",
        "from IPython.display import clear_output\r\n",
        "clear_output()\r\n",
        "\r\n",
        "print('Setup complete. Using torch %s %s' % (torch.__version__, torch.cuda.get_device_properties(0) if torch.cuda.is_available() else 'CPU'))\r\n",
        "\r\n",
        "DEVICE = \"cuda\" if torch.cuda.is_available() else \"cpu\""
      ],
      "outputs": [
        {
          "output_type": "stream",
          "name": "stdout",
          "text": [
            "Setup complete. Using torch 1.9.0+cu102 CPU\n"
          ]
        }
      ],
      "metadata": {
        "colab": {
          "base_uri": "https://localhost:8080/"
        },
        "id": "RoklCZUm7KX1",
        "outputId": "43144a17-312b-459e-9c49-eefcba310d6d"
      }
    },
    {
      "cell_type": "code",
      "execution_count": null,
      "source": [
        "def get_best_transcriptions(transcriptions):\r\n",
        "    return list(map(lambda xs: xs[0][1], transcriptions))\r\n",
        "\r\n",
        "def download_lm(lm_path):\r\n",
        "    %rm -v \"{lm_path}\"*\r\n",
        "    !wget \"https://www.openslr.org/resources/11/{lm_path}.gz\" -O \"{lm_path}.gz\"\r\n",
        "    !gzip -cdv \"{lm_path}.gz\" > \"{lm_path}\"\r\n",
        "\r\n",
        "def download_from_github(file_id, file_name):\r\n",
        "    %rm -v \"{file_name}\"\r\n",
        "    !wget \"{file_id}\" -O \"{file_name}\""
      ],
      "outputs": [],
      "metadata": {
        "id": "kwBXdrse8HW3"
      }
    },
    {
      "cell_type": "code",
      "execution_count": null,
      "source": [
        "nltk.download(\"punkt\")\r\n",
        "\r\n",
        "MODEL_NAME='stt_en_jasper10x5dr'\r\n",
        "LM_3GRAM_PATH = '3-gram.arpa'\r\n",
        "ID2WORD_MODEL_PATH = \"id2word.dict\"\r\n",
        "ID2WORD_MODEL_FILEID = \"https://github.com/alexjercan/asr-toolkit/releases/download/v1.0/id2word.dict\"\r\n",
        "LDA_MODEL_PATH = \"lda_model.model\"\r\n",
        "LDA_MODEL_FILEID = \"https://github.com/alexjercan/asr-toolkit/releases/download/v1.0/lda_model.model\"\r\n",
        "ROOT = os.path.join(\".\")\r\n",
        "\r\n",
        "asr_model = nemo_asr.models.EncDecCTCModel.from_pretrained(model_name=MODEL_NAME, strict=False).to(DEVICE)\r\n",
        "asr_model.eval()\r\n",
        "\r\n",
        "VOCABULARY = list(map(lambda x: x.upper(), asr_model.decoder.vocabulary))\r\n",
        "vocab = VOCABULARY + ['<pad>']\r\n",
        "BLANK = len(vocab) - 1 \r\n",
        "\r\n",
        "DICTIONARY = dict(zip(vocab, range(len(vocab))))\r\n",
        "LABELS = {v:k for k, v in DICTIONARY.items()}\r\n",
        "\r\n",
        "if not os.path.exists(LM_3GRAM_PATH):\r\n",
        "    download_lm(LM_3GRAM_PATH)\r\n",
        "beam_search_lm = BeamSearchDecoderWithLM(\r\n",
        "    vocab=VOCABULARY,\r\n",
        "    beam_width=16,\r\n",
        "    alpha=1.5, beta=1.5,\r\n",
        "    lm_path=LM_3GRAM_PATH,\r\n",
        "    num_cpus=max(os.cpu_count(), 1))\r\n",
        "\r\n",
        "if not os.path.exists(LDA_MODEL_PATH):\r\n",
        "    download_from_github(LDA_MODEL_FILEID, LDA_MODEL_PATH)\r\n",
        "lda_model = HdpModel.load(LDA_MODEL_PATH)\r\n",
        "\r\n",
        "if not os.path.exists(ID2WORD_MODEL_PATH):\r\n",
        "    download_from_github(ID2WORD_MODEL_FILEID, ID2WORD_MODEL_PATH)\r\n",
        "id2word = Dictionary.load(ID2WORD_MODEL_PATH)\r\n",
        "\r\n",
        "num_topics = len(lda_model.get_topics())\r\n",
        "topic_keywords = [([word for word, prop in lda_model.show_topic(t)]) for t in range(num_topics)]\r\n",
        "\r\n",
        "test_dataset = LibriSpeechBookDataset(root=ROOT, url=\"test-clean\", folder_in_archive=\"LibriSpeech\", download=True)\r\n",
        "\r\n",
        "clear_output()"
      ],
      "outputs": [],
      "metadata": {
        "id": "bEl5DRyo7OH8"
      }
    },
    {
      "cell_type": "markdown",
      "source": [
        "# Complete pipeline"
      ],
      "metadata": {
        "id": "j1kyEVOftsP4"
      }
    },
    {
      "cell_type": "code",
      "execution_count": null,
      "source": [
        "audiobook_signal, audiobook_gt_transcription, audiobook_title, audiobook_duration = next(iter(test_dataset))"
      ],
      "outputs": [],
      "metadata": {
        "id": "9pK9oShfKSUL"
      }
    },
    {
      "cell_type": "code",
      "execution_count": null,
      "source": [
        "print(f\"The book is \\\"{audiobook_title}\\\" and has a duration of {audiobook_duration} minutes.\")\r\n",
        "play_audio(audiobook_signal, sample_rate=16_000)"
      ],
      "outputs": [],
      "metadata": {
        "id": "IXF3kQZotuGk",
        "colab": {
          "base_uri": "https://localhost:8080/",
          "height": 92
        },
        "outputId": "f145dea3-186b-438d-ea88-ba2a62e9f35b"
      }
    },
    {
      "cell_type": "code",
      "execution_count": null,
      "source": [
        "input_signal = audiobook_signal[0].to(DEVICE).unsqueeze(0)\r\n",
        "input_signal_length = torch.tensor([audiobook_signal.shape[-1]], device=DEVICE)\r\n",
        "\r\n",
        "with torch.no_grad():\r\n",
        "    log_probs, encoded_len, greedy_predictions = asr_model(input_signal=input_signal, input_signal_length=input_signal_length)\r\n",
        "    transcriptions = beam_search_lm(log_probs=log_probs, log_probs_length=encoded_len)\r\n",
        "\r\n",
        "audiobook_text = get_best_transcriptions(transcriptions)[0]\r\n",
        "_, _ = print_err_html(audiobook_gt_transcription.split(\" \"), audiobook_text.split(\" \"))"
      ],
      "outputs": [
        {
          "output_type": "stream",
          "name": "stderr",
          "text": [
            "[NeMo W 2021-08-23 15:32:39 patch_utils:50] torch.stft() signature has been updated for PyTorch 1.7+\n",
            "    Please update PyTorch to remain compatible with later versions of NeMo.\n",
            "[NeMo W 2021-08-23 15:32:40 nemo_logging:349] /usr/local/lib/python3.7/dist-packages/torch/_tensor.py:575: UserWarning: floor_divide is deprecated, and will be removed in a future version of pytorch. It currently rounds toward 0 (like the 'trunc' function NOT 'floor'). This results in incorrect rounding for negative values.\n",
            "    To keep the current behavior, use torch.div(a, b, rounding_mode='trunc'), or for actual floor division, use torch.div(a, b, rounding_mode='floor'). (Triggered internally at  /pytorch/aten/src/ATen/native/BinaryOps.cpp:467.)\n",
            "      return torch.floor_divide(self, other)\n",
            "    \n"
          ]
        },
        {
          "output_type": "display_data",
          "data": {
            "text/plain": [
              "<IPython.core.display.HTML object>"
            ],
            "text/html": [
              "THOUGHT KILLS ME THAT I AM NOT THOUGHT TO <span class=\"y\">LEAVE(LEAP)</span> LARGE LENGTHS OF MILES WHEN THOU ART GONE BUT THAT SO MUCH OF EARTH AND WATER WROUGHT I MUST ATTEND TIME'S LEISURE WITH MY MOAN RECEIVING NOUGHT BY ELEMENTS SO SLOW BUT HEAVY TEARS BADGES OF EITHER'S WOE NO MATTER THEN ALTHOUGH MY FOOT DID STAND UPON THE FARTHEST EARTH <span class=\"y\">REMOVED(REMOV'D)</span> FROM THEE FOR NIMBLE THOUGHT CAN JUMP BOTH SEA AND LAND AS SOON AS THINK THE PLACE WHERE HE WOULD BE BUT <span class=\"r\">AH</span> THOSE PRETTY WRONGS THAT LIBERTY COMMITS WHEN I AM <span class=\"g\">SOME</span> <span class=\"y\">TIME(SOMETIME)</span> ABSENT FROM THY HEART THY BEAUTY AND THY YEARS FULL WELL BEFITS FOR STILL TEMPTATION FOLLOWS WHERE THOU ART <span class=\"y\">A(AY)</span> ME MY HEART DOTH PLEAD THAT THOU IN <span class=\"r\">HIM</span> <span class=\"r\">DOST</span> <span class=\"r\">LIE</span> <span class=\"r\">A</span> <span class=\"y\">HIMATION(CLOSET)</span> <span class=\"y\">EVER(NEVER)</span> <span class=\"y\">PIERCED(PIERC'D)</span> WITH CRYSTAL EYES BUT THE DEFENDANT DOTH THAT PLEA DENY AND SAYS IN HIM THY FAIR APPEARANCE LIES YOU ARE MY ALL THE WORLD AND I MUST STRIVE TO KNOW MY SHAMES AND PRAISES FROM YOUR TONGUE NONE ELSE TO ME NOR I TO NONE ALIVE THAT MY <span class=\"y\">STEELED(STEEL'D)</span> SENSE OR CHANGES RIGHT OR WRONG LOVE IS A BABE THEN MIGHT I NOT SAY SO TO GIVE FULL GROWTH TO THAT WHICH STILL DOTH GROW <span class=\"y\">OH(O)</span> TIS THE FIRST TIS FLATTERY IN MY SEEING AND MY GREAT MIND MOST KINGLY DRINKS IT UP MINE <span class=\"y\">I(EYE)</span> WELL KNOWS WHAT WITH HIS GUST IS <span class=\"y\">GREEN(GREEING)</span> AND TO HIS PALATE DOTH PREPARE THE CUP IF IT BE <span class=\"y\">POISONED(POISON'D)</span> TIS THE LESSER SIN THAT MINE <span class=\"y\">I(EYE)</span> <span class=\"y\">LOVED(LOVES)</span> IT AND DOTH FIRST BEGIN SO I RETURN <span class=\"y\">REBUKED(REBUK'D)</span> TO MY CONTENT AND GAIN BY ILL THRICE MORE THAN I HAVE SPENT BUT RECKONING TIME WHOSE <span class=\"y\">MILLION(MILLION'D)</span> ACCIDENTS CREEP IN TWIXT VOWS AND <span class=\"y\">CHANGED(CHANGE)</span> DECREES OF KINGS <span class=\"y\">TAN'S(TAN)</span> SACRED BEAUTY BLUNT THE <span class=\"y\">SHARPEST(SHARP'ST)</span> INTENTS DIVERT STRONG MINDS TO THE COURSE OF ALTERING THINGS ALAS WHY FEARING OF TIME'S TYRANNY MIGHT I NOT THEN SAY NOW I LOVE YOU BEST WHEN I WAS CERTAIN <span class=\"y\">OR(O'ER)</span> <span class=\"y\">UNCERTAINTY(INCERTAINTY)</span> CROWNING THE PRESENT DOUBTING OF THE REST <html><body><head><meta charset=\"utf-8\"></head><style>.g{background-color:#0080004d}.r{background-color:#ff00004d}.y{background-color:#ffa50099}</style></body></html>"
            ]
          },
          "metadata": {}
        },
        {
          "output_type": "stream",
          "name": "stdout",
          "text": [
            "ERR=8.0838\n"
          ]
        }
      ],
      "metadata": {
        "id": "Gww1g_FqufJQ",
        "colab": {
          "base_uri": "https://localhost:8080/",
          "height": 343
        },
        "outputId": "87502e25-ace7-4f43-9652-59e3b1ec7d5a"
      }
    },
    {
      "cell_type": "code",
      "execution_count": null,
      "source": [
        "x = word_tokenize(audiobook_text.lower())\r\n",
        "x = id2word.doc2bow(x)\r\n",
        "y_hat = lda_model[[x]]"
      ],
      "outputs": [],
      "metadata": {
        "id": "xwo7Z4nBvPj1"
      }
    },
    {
      "cell_type": "code",
      "execution_count": null,
      "source": [
        "_threshold = 0.05\r\n",
        "data = {k: v for k, v in y_hat[0] if v >= _threshold}\r\n",
        "topics = sorted(data.items(), key=lambda e: e[1], reverse=True)\r\n",
        "print(f\"Predicted topic for the book \\\"{audiobook_title}\\\" are\")\r\n",
        "for k, v in topics:\r\n",
        "    print(f\"{k} and contains {topic_keywords[k]} keywords.\")\r\n",
        "\r\n",
        "pie, ax = plt.subplots(figsize=[10, 6])\r\n",
        "\r\n",
        "plt.pie(x=data.values(), autopct=\"%.1f%%\", explode=[0.05]*len(data.keys()), labels=data.keys(), normalize=True)\r\n",
        "plt.title(\"Topics contained by the first book\", fontsize=14)\r\n",
        "plt.show()"
      ],
      "outputs": [
        {
          "output_type": "stream",
          "name": "stdout",
          "text": [
            "Predicted topic for the book \"Shakespeare's Sonnets\" are\n",
            "9 and contains ['incomplete', 'assiduously', 'unpleasantly', 'avert', 'repel', 'soothes', 'clouds', 'nettle', 'amass', 'digest', 'proven', 'forenoon', 'stress', 'promontory', 'cigarettes', 'lavish', 'myth', 'reek', 'vastly', 'receptacle'] keywords.\n",
            "14 and contains ['quoth', 'covenant', 'shingle', 'serenity', 'accidental', 'bowing', 'cucumber', 'inveterate', 'snuff', 'bleeding', 'contemptible', 'garter', 'thrice', 'recited', 'satan', 'robertson', 'compels', 'propagandists', 'bomb', 'wickedly'] keywords.\n"
          ]
        },
        {
          "output_type": "display_data",
          "data": {
            "text/plain": [
              "<Figure size 720x432 with 1 Axes>"
            ],
            "image/png": "[encoded data removed]"
          },
          "metadata": {}
        }
      ],
      "metadata": {
        "id": "xFHl3EaXv8f6",
        "colab": {
          "base_uri": "https://localhost:8080/",
          "height": 445
        },
        "outputId": "856b68f7-7d8a-4c86-fc90-d544b3400f8e"
      }
    },
    {
      "cell_type": "markdown",
      "source": [
        "# Extra"
      ],
      "metadata": {
        "id": "Pvc1ZUVxptpd"
      }
    },
    {
      "cell_type": "code",
      "execution_count": null,
      "source": [
        "from pprint import pprint"
      ],
      "outputs": [],
      "metadata": {
        "id": "-jRLTIWFqB7S"
      }
    },
    {
      "cell_type": "code",
      "execution_count": null,
      "source": [
        "pprint(lda_model.print_topics(num_words=20))"
      ],
      "outputs": [
        {
          "output_type": "stream",
          "name": "stdout",
          "text": [
            "[(0,\n",
            "  '0.002*deceitful + 0.002*sits + 0.002*opium + 0.002*fated + 0.002*ferns + '\n",
            "  '0.001*cuban + 0.001*winked + 0.001*thigh + 0.001*smiling + '\n",
            "  '0.001*submissively + 0.001*squarely + 0.001*trash + 0.001*depict + '\n",
            "  '0.001*sky + 0.001*eligible + 0.001*memorandum + 0.001*improper + '\n",
            "  '0.001*corroborate + 0.001*jolt + 0.001*impediment'),\n",
            " (1,\n",
            "  '0.002*footpath + 0.002*forgetting + 0.002*leaned + 0.002*sill + '\n",
            "  '0.002*impostor + 0.001*essence + 0.001*antidote + 0.001*contented + '\n",
            "  '0.001*famously + 0.001*episode + 0.001*grocery + 0.001*straightforward + '\n",
            "  '0.001*jungle + 0.001*dissatisfy + 0.001*trophy + 0.001*entrench + '\n",
            "  '0.001*reasoning + 0.001*eject + 0.001*slang + 0.001*sportive'),\n",
            " (2,\n",
            "  '0.002*quail + 0.002*cheque + 0.001*predominant + 0.001*velocity + '\n",
            "  '0.001*dairy + 0.001*affront + 0.001*promoter + 0.001*lightest + '\n",
            "  '0.001*expulsion + 0.001*rap + 0.001*rhetoric + 0.001*despotic + '\n",
            "  '0.001*naturedly + 0.001*doughnut + 0.001*ached + 0.001*ecclesiastic + '\n",
            "  '0.001*unpopular + 0.001*dispense + 0.001*strawberry + 0.001*auspicious'),\n",
            " (3,\n",
            "  '0.002*texas + 0.002*physicians + 0.002*cardboard + 0.001*infantile + '\n",
            "  '0.001*compelling + 0.001*pearl + 0.001*farmyard + 0.001*logically + '\n",
            "  '0.001*birmingham + 0.001*thorn + 0.001*lease + 0.001*grade + 0.001*rigidity '\n",
            "  '+ 0.001*formed + 0.001*wearied + 0.001*fanaticism + 0.001*dairy + '\n",
            "  '0.001*definitely + 0.001*tardy + 0.001*violin'),\n",
            " (4,\n",
            "  '0.002*escaped + 0.002*hatchet + 0.002*distinguished + 0.002*payment + '\n",
            "  '0.002*litter + 0.002*canyon + 0.002*punch + 0.001*crucifix + 0.001*fried + '\n",
            "  '0.001*athwart + 0.001*suffuse + 0.001*gloriously + 0.001*forgetfulness + '\n",
            "  '0.001*puddle + 0.001*lamps + 0.001*rightful + 0.001*essay + 0.001*fete + '\n",
            "  '0.001*snare + 0.001*holmes'),\n",
            " (5,\n",
            "  '0.002*miserably + 0.001*freshman + 0.001*trolley + 0.001*chaste + '\n",
            "  '0.001*whiskey + 0.001*drill + 0.001*rigidly + 0.001*sate + 0.001*sensibly + '\n",
            "  '0.001*extension + 0.001*tick + 0.001*paler + 0.001*expediency + '\n",
            "  '0.001*unwieldy + 0.001*prevision + 0.001*retaliation + 0.001*data + '\n",
            "  '0.001*turkish + 0.001*bland + 0.001*whack'),\n",
            " (6,\n",
            "  '0.002*nutmeg + 0.002*nip + 0.002*sinking + 0.002*blear + 0.002*beneficent + '\n",
            "  '0.002*eternally + 0.001*involved + 0.001*prevision + 0.001*esquire + '\n",
            "  '0.001*sabbath + 0.001*reel + 0.001*dressing + 0.001*arnica + '\n",
            "  '0.001*stateroom + 0.001*mausoleum + 0.001*scenes + 0.001*mortality + '\n",
            "  '0.001*womb + 0.001*agriculture + 0.001*foreman'),\n",
            " (7,\n",
            "  '0.002*camel + 0.002*sanctuary + 0.002*panther + 0.002*quarry + 0.001*aught '\n",
            "  '+ 0.001*ceased + 0.001*lamentation + 0.001*chronic + 0.001*verily + '\n",
            "  '0.001*sociable + 0.001*geography + 0.001*roguish + 0.001*infect + '\n",
            "  '0.001*obstruction + 0.001*unpleasantly + 0.001*musingly + '\n",
            "  '0.001*unintentionally + 0.001*upheld + 0.001*modify + 0.001*fluttering'),\n",
            " (8,\n",
            "  '0.002*scribe + 0.002*pretext + 0.001*legislator + 0.001*tacitly + '\n",
            "  '0.001*bulky + 0.001*penniless + 0.001*sixpence + 0.001*whimper + '\n",
            "  '0.001*miraculously + 0.001*universally + 0.001*truant + 0.001*fraternal + '\n",
            "  '0.001*seasoning + 0.001*snaky + 0.001*zigzag + 0.001*dislocation + '\n",
            "  '0.001*fifteenth + 0.001*idiom + 0.001*taller + 0.001*bareheaded'),\n",
            " (9,\n",
            "  '0.002*incomplete + 0.002*assiduously + 0.001*unpleasantly + 0.001*avert + '\n",
            "  '0.001*repel + 0.001*soothes + 0.001*clouds + 0.001*nettle + 0.001*amass + '\n",
            "  '0.001*digest + 0.001*proven + 0.001*forenoon + 0.001*stress + '\n",
            "  '0.001*promontory + 0.001*cigarettes + 0.001*lavish + 0.001*myth + '\n",
            "  '0.001*reek + 0.001*vastly + 0.001*receptacle'),\n",
            " (10,\n",
            "  '0.002*pretext + 0.002*forefather + 0.002*fickle + 0.001*pilgrims + '\n",
            "  '0.001*waiter + 0.001*envoys + 0.001*pervade + 0.001*predominant + '\n",
            "  '0.001*inherited + 0.001*mouthful + 0.001*naturedly + 0.001*colleague + '\n",
            "  '0.001*restlessness + 0.001*grandchild + 0.001*civic + 0.001*imbibe + '\n",
            "  '0.001*penance + 0.001*extinction + 0.001*damask + 0.001*attendance'),\n",
            " (11,\n",
            "  '0.003*untold + 0.002*breastwork + 0.002*laborious + 0.002*distrustful + '\n",
            "  '0.002*complacently + 0.001*menagerie + 0.001*pal + 0.001*blizzard + '\n",
            "  '0.001*trend + 0.001*restorative + 0.001*conventional + 0.001*semblance + '\n",
            "  '0.001*roused + 0.001*shrivel + 0.001*chandelier + 0.001*barricade + '\n",
            "  '0.001*melodramatic + 0.001*voter + 0.001*precedes + 0.001*knead'),\n",
            " (12,\n",
            "  '0.002*mercury + 0.002*flog + 0.002*cuba + 0.002*consequent + 0.001*robust + '\n",
            "  '0.001*christen + 0.001*admitted + 0.001*assyrian + 0.001*heavier + '\n",
            "  '0.001*migration + 0.001*miserably + 0.001*trance + 0.001*northeast + '\n",
            "  '0.001*divorce + 0.001*canon + 0.001*gloriously + 0.001*gymnasium + '\n",
            "  '0.001*impediment + 0.001*forenoon + 0.001*forsooth'),\n",
            " (13,\n",
            "  '0.002*warp + 0.001*comely + 0.001*ingratitude + 0.001*maintenance + '\n",
            "  '0.001*tuft + 0.001*oil + 0.001*affirmative + 0.001*earthy + 0.001*yosemite '\n",
            "  '+ 0.001*reindeer + 0.001*columns + 0.001*wistful + 0.001*advantageous + '\n",
            "  '0.001*fervent + 0.001*knowest + 0.001*gayety + 0.001*matthew + '\n",
            "  '0.001*perdition + 0.001*duet + 0.001*gingham'),\n",
            " (14,\n",
            "  '0.002*quoth + 0.002*covenant + 0.002*shingle + 0.001*serenity + '\n",
            "  '0.001*accidental + 0.001*bowing + 0.001*cucumber + 0.001*inveterate + '\n",
            "  '0.001*snuff + 0.001*bleeding + 0.001*contemptible + 0.001*garter + '\n",
            "  '0.001*thrice + 0.001*recited + 0.001*satan + 0.001*robertson + '\n",
            "  '0.001*compels + 0.001*propagandists + 0.001*bomb + 0.001*wickedly')]\n"
          ]
        }
      ],
      "metadata": {
        "id": "vcoPjN5uv9O9",
        "colab": {
          "base_uri": "https://localhost:8080/"
        },
        "outputId": "b9342d94-2574-4066-d8e5-afa84966c291"
      }
    },
    {
      "cell_type": "code",
      "execution_count": null,
      "source": [],
      "outputs": [],
      "metadata": {
        "id": "5cUCDrzwHAsH"
      }
    }
  ]
}